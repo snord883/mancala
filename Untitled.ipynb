{
 "cells": [
  {
   "cell_type": "code",
   "execution_count": 111,
   "metadata": {},
   "outputs": [],
   "source": [
    "import matplotlib.pyplot as plt\n",
    "import json\n",
    "import random"
   ]
  },
  {
   "cell_type": "code",
   "execution_count": 122,
   "metadata": {},
   "outputs": [],
   "source": [
    "with open('unprocessed_games.json') as f:\n",
    "    games = json.load(f)"
   ]
  },
  {
   "cell_type": "markdown",
   "metadata": {},
   "source": [
    "## Individual Game Object"
   ]
  },
  {
   "cell_type": "code",
   "execution_count": 128,
   "metadata": {},
   "outputs": [
    {
     "data": {
      "text/plain": [
       "4836"
      ]
     },
     "execution_count": 128,
     "metadata": {},
     "output_type": "execute_result"
    }
   ],
   "source": [
    "game_num = random.choice(range(len(games[\"0\"])))\n",
    "game_num"
   ]
  },
  {
   "cell_type": "code",
   "execution_count": 129,
   "metadata": {},
   "outputs": [
    {
     "data": {
      "text/plain": [
       "{'actions': [0, 2, 1, 3, 1, 2, 2, 5, 1],\n",
       " 'turns': [0, 2, 4, 6, 8, 10, 12, 14, 16],\n",
       " 'rewards': [6, 1, 3, 1, 3, 2, 1, 1, 4, 0],\n",
       " 'states': [[4, 4, 4, 4, 4, 4, 0, 4, 4, 4, 4, 4, 4, 0],\n",
       "  [2, 5, 2, 11, 0, 0, 6, 4, 0, 2, 0, 3, 10, 3],\n",
       "  [0, 6, 1, 13, 1, 1, 7, 5, 1, 0, 1, 4, 0, 8],\n",
       "  [0, 3, 0, 2, 5, 1, 10, 0, 1, 4, 0, 4, 0, 18],\n",
       "  [1, 3, 0, 0, 6, 0, 11, 1, 0, 0, 1, 5, 1, 19],\n",
       "  [2, 0, 2, 2, 0, 1, 14, 0, 1, 0, 3, 0, 2, 21],\n",
       "  [0, 1, 1, 0, 0, 2, 16, 1, 0, 0, 3, 0, 0, 24],\n",
       "  [0, 1, 0, 0, 0, 2, 17, 0, 0, 0, 3, 0, 0, 25],\n",
       "  [0, 1, 0, 0, 0, 0, 18, 0, 0, 0, 3, 0, 0, 26]],\n",
       " 'results': 22}"
      ]
     },
     "execution_count": 129,
     "metadata": {},
     "output_type": "execute_result"
    }
   ],
   "source": [
    "games[\"0\"][game_num]"
   ]
  },
  {
   "cell_type": "code",
   "execution_count": 130,
   "metadata": {},
   "outputs": [
    {
     "data": {
      "text/plain": [
       "{'actions': [3, 5, 2, 4, 5, 0, 1, 0, 5, 0, 0],\n",
       " 'turns': [1, 3, 5, 5, 5, 5, 7, 9, 11, 13, 15],\n",
       " 'rewards': [3, 5, 1, 4, 1, 4, 1, 2, 3, 1, 1, 0],\n",
       " 'states': [[3, 0, 2, 9, 2, 9, 0, 1, 4, 1, 10, 0, 1, 6],\n",
       "  [4, 0, 2, 0, 3, 10, 3, 2, 5, 0, 12, 0, 0, 7],\n",
       "  [0, 2, 1, 2, 5, 0, 8, 0, 0, 2, 14, 2, 2, 10],\n",
       "  [0, 2, 0, 0, 6, 1, 9, 0, 0, 2, 14, 2, 2, 10],\n",
       "  [3, 0, 3, 1, 3, 1, 13, 3, 3, 0, 2, 5, 1, 10],\n",
       "  [3, 0, 3, 1, 3, 0, 14, 3, 3, 0, 2, 5, 1, 10],\n",
       "  [1, 1, 4, 0, 4, 0, 18, 0, 3, 0, 0, 6, 0, 11],\n",
       "  [2, 0, 1, 2, 0, 2, 19, 2, 1, 2, 2, 0, 1, 14],\n",
       "  [0, 0, 0, 3, 0, 2, 21, 2, 0, 0, 3, 0, 1, 16],\n",
       "  [1, 0, 0, 3, 0, 0, 24, 0, 1, 0, 0, 0, 2, 17],\n",
       "  [1, 0, 0, 3, 0, 0, 25, 0, 1, 0, 0, 0, 0, 18]],\n",
       " 'results': 26}"
      ]
     },
     "execution_count": 130,
     "metadata": {},
     "output_type": "execute_result"
    }
   ],
   "source": [
    "games[\"1\"][game_num]"
   ]
  },
  {
   "cell_type": "markdown",
   "metadata": {},
   "source": [
    "### Probability of Winning (Random play)"
   ]
  },
  {
   "cell_type": "code",
   "execution_count": 140,
   "metadata": {},
   "outputs": [
    {
     "name": "stdout",
     "output_type": "stream",
     "text": [
      "Player0: 60.11%\n",
      "Player1: 32.74%\n",
      "Ties:     7.15%\n"
     ]
    }
   ],
   "source": [
    "print(\"Player0: {:.2%}\".format(sum([games[\"0\"][n][\"results\"]>24 for n in range(len(games[\"0\"]))])/len(games[\"0\"])))\n",
    "print(\"Player1: {:.2%}\".format(sum([games[\"1\"][n][\"results\"]>24 for n in range(len(games[\"1\"]))])/len(games[\"0\"])))\n",
    "print(\"Ties:     {:.2%}\".format(sum([games[\"1\"][n][\"results\"]==games[\"0\"][n][\"results\"] for n in range(len(games[\"1\"]))])/10000))"
   ]
  },
  {
   "cell_type": "code",
   "execution_count": 141,
   "metadata": {},
   "outputs": [
    {
     "name": "stdout",
     "output_type": "stream",
     "text": [
      "Player0 Max: 43\n",
      "Player0 Min: 8\n",
      "Player1 Max: 40\n",
      "Player1 Min: 5\n"
     ]
    }
   ],
   "source": [
    "print(f'Player0 Max: {max([games[\"0\"][n][\"results\"] for n in range(len(games[\"0\"]))])}')\n",
    "print(f'Player0 Min: {min([games[\"0\"][n][\"results\"] for n in range(len(games[\"0\"]))])}')\n",
    "print(f'Player1 Max: {max([games[\"1\"][n][\"results\"] for n in range(len(games[\"1\"]))])}')\n",
    "print(f'Player1 Min: {min([games[\"1\"][n][\"results\"] for n in range(len(games[\"1\"]))])}')"
   ]
  },
  {
   "cell_type": "code",
   "execution_count": 152,
   "metadata": {},
   "outputs": [
    {
     "data": {
      "text/plain": [
       "Text(0, 0.5, 'Frequency')"
      ]
     },
     "execution_count": 152,
     "metadata": {},
     "output_type": "execute_result"
    },
    {
     "data": {
      "image/png": "[encoded data removed]",
      "text/plain": [
       "<Figure size 432x288 with 1 Axes>"
      ]
     },
     "metadata": {
      "needs_background": "light"
     },
     "output_type": "display_data"
    }
   ],
   "source": [
    "results0 = [games[\"0\"][n][\"results\"] for n in range(len(games[\"0\"]))]\n",
    "results1 = [games[\"1\"][n][\"results\"] for n in range(len(games[\"1\"]))]\n",
    "plt.hist(results0, alpha=.5)\n",
    "plt.hist(results1, alpha=.5)\n",
    "\n",
    "plt.title(\"GAME RESULTS DISTRIBUTION\")\n",
    "plt.xlabel(\"Results\")\n",
    "plt.ylabel(\"Frequency\")"
   ]
  },
  {
   "cell_type": "markdown",
   "metadata": {},
   "source": [
    "## Distribution by turn"
   ]
  },
  {
   "cell_type": "code",
   "execution_count": 168,
   "metadata": {},
   "outputs": [
    {
     "name": "stdout",
     "output_type": "stream",
     "text": [
      "n: 10000\n",
      "Ave: 7.4936\n",
      "Max: 28\n",
      "Min: 3\n"
     ]
    },
    {
     "data": {
      "image/png": "[encoded data removed]",
      "text/plain": [
       "<Figure size 432x288 with 1 Axes>"
      ]
     },
     "metadata": {
      "needs_background": "light"
     },
     "output_type": "display_data"
    }
   ],
   "source": [
    "desired_turn = 0\n",
    "\n",
    "p_num = str(int(desired_turn%2!=0))\n",
    "turn_rewards = [sum([g[\"rewards\"][t] for t in range(len(g[\"turns\"])) if g[\"turns\"][t]==desired_turn]) for g in games[p_num] if desired_turn in g[\"turns\"]]\n",
    "\n",
    "n_occurrences = len(turn_rewards)\n",
    "\n",
    "print(f\"n: {n_occurrences}\")\n",
    "\n",
    "if n_occurrences>0:\n",
    "    print(f\"Ave: {sum(turn_rewards)/n_occurrences}\")\n",
    "    print(f\"Max: {max(turn_rewards)}\")\n",
    "    print(f\"Min: {min(turn_rewards)}\")\n",
    "    plt.hist(turn_rewards)\n",
    "\n",
    "    plt.title(f\"TURN ({desired_turn}) RESULTS DISTRIBUTION\")\n",
    "    plt.xlabel(\"Results\")\n",
    "    plt.ylabel(\"Frequency\")"
   ]
  },
  {
   "cell_type": "code",
   "execution_count": null,
   "metadata": {},
   "outputs": [],
   "source": []
  }
 ],
 "metadata": {
  "kernelspec": {
   "display_name": "Python 3",
   "language": "python",
   "name": "python3"
  },
  "language_info": {
   "codemirror_mode": {
    "name": "ipython",
    "version": 3
   },
   "file_extension": ".py",
   "mimetype": "text/x-python",
   "name": "python",
   "nbconvert_exporter": "python",
   "pygments_lexer": "ipython3",
   "version": "3.7.4"
  }
 },
 "nbformat": 4,
 "nbformat_minor": 4
}
